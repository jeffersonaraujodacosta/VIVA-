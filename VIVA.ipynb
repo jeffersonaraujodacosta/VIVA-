{
  "nbformat": 4,
  "nbformat_minor": 0,
  "metadata": {
    "colab": {
      "provenance": []
    },
    "kernelspec": {
      "name": "python3",
      "display_name": "Python 3"
    },
    "language_info": {
      "name": "python"
    }
  },
  "cells": [
    {
      "cell_type": "code",
      "execution_count": 4,
      "metadata": {
        "id": "Su56XgcfkRr5"
      },
      "outputs": [],
      "source": [
        "# Instalação da biblioteca necessária\n",
        "!pip -q install google-genai"
      ]
    },
    {
      "cell_type": "code",
      "source": [
        "# 🔐 Configurar chave da API - google - gemini\n",
        "import os\n",
        "from google.colab import userdata\n",
        "\n",
        "# Certifique-se de que você configurou a chave da API no Colab (em \"Secrets\") com o nome 'GOOGLE_API_KEY'\n",
        "os.environ[\"GOOGLE_API_KEY\"] = userdata.get('GOOGLE_API_KEY')"
      ],
      "metadata": {
        "id": "a5hsv6utkgFS"
      },
      "execution_count": 1,
      "outputs": []
    },
    {
      "cell_type": "code",
      "source": [
        "# Configura o cliente da SDK do Gemini\n",
        "import os\n",
        "import google.generativeai as genai  # Corrected import statement\n",
        "\n",
        "# Carrega a chave da API do ambiente\n",
        "genai.configure(api_key=os.environ[\"GOOGLE_API_KEY\"])\n",
        "\n",
        "MODEL_ID = \"gemini-2.0-flash\"\n",
        "model = genai.GenerativeModel(MODEL_ID)"
      ],
      "metadata": {
        "id": "VvntwuBzkgAf"
      },
      "execution_count": 2,
      "outputs": []
    },
    {
      "cell_type": "code",
      "source": [
        "\n",
        "# Importação das Bibliotecas Necessárias\n",
        "from datetime import datetime, date\n",
        "import textwrap\n",
        "from typing import Dict, List\n",
        "import warnings\n",
        "from IPython.display import Markdown, display # Import para exibir Markdown no Colab\n",
        "import os\n",
        "import google.generativeai as genai\n",
        "from google.colab import userdata\n",
        "\n",
        "warnings.filterwarnings(\"ignore\")"
      ],
      "metadata": {
        "id": "T5T9Z9zgmbkH"
      },
      "execution_count": 3,
      "outputs": []
    },
    {
      "cell_type": "code",
      "source": [
        "!pip install -q google-adk"
      ],
      "metadata": {
        "colab": {
          "base_uri": "https://localhost:8080/"
        },
        "id": "DOgLjjrvmn2N",
        "outputId": "1e750574-db57-4622-d9e9-16e670ce30a6"
      },
      "execution_count": null,
      "outputs": [
        {
          "output_type": "stream",
          "name": "stdout",
          "text": [
            "\u001b[?25l   \u001b[90m━━━━━━━━━━━━━━━━━━━━━━━━━━━━━━━━━━━━━━━━\u001b[0m \u001b[32m0.0/1.2 MB\u001b[0m \u001b[31m?\u001b[0m eta \u001b[36m-:--:--\u001b[0m\r\u001b[2K   \u001b[91m━━━━━━━━━━━━━━━━━━━━━━━━━━━━━\u001b[0m\u001b[91m╸\u001b[0m\u001b[90m━━━━━━━━━━\u001b[0m \u001b[32m0.9/1.2 MB\u001b[0m \u001b[31m26.7 MB/s\u001b[0m eta \u001b[36m0:00:01\u001b[0m\r\u001b[2K   \u001b[90m━━━━━━━━━━━━━━━━━━━━━━━━━━━━━━━━━━━━━━━━\u001b[0m \u001b[32m1.2/1.2 MB\u001b[0m \u001b[31m21.4 MB/s\u001b[0m eta \u001b[36m0:00:00\u001b[0m\n",
            "\u001b[?25h\u001b[?25l   \u001b[90m━━━━━━━━━━━━━━━━━━━━━━━━━━━━━━━━━━━━━━━━\u001b[0m \u001b[32m0.0/232.1 kB\u001b[0m \u001b[31m?\u001b[0m eta \u001b[36m-:--:--\u001b[0m\r\u001b[2K   \u001b[90m━━━━━━━━━━━━━━━━━━━━━━━━━━━━━━━━━━━━━━━━\u001b[0m \u001b[32m232.1/232.1 kB\u001b[0m \u001b[31m13.7 MB/s\u001b[0m eta \u001b[36m0:00:00\u001b[0m\n",
            "\u001b[?25h\u001b[?25l   \u001b[90m━━━━━━━━━━━━━━━━━━━━━━━━━━━━━━━━━━━━━━━━\u001b[0m \u001b[32m0.0/95.2 kB\u001b[0m \u001b[31m?\u001b[0m eta \u001b[36m-:--:--\u001b[0m\r\u001b[2K   \u001b[90m━━━━━━━━━━━━━━━━━━━━━━━━━━━━━━━━━━━━━━━━\u001b[0m \u001b[32m95.2/95.2 kB\u001b[0m \u001b[31m6.1 MB/s\u001b[0m eta \u001b[36m0:00:00\u001b[0m\n",
            "\u001b[?25h\u001b[?25l   \u001b[90m━━━━━━━━━━━━━━━━━━━━━━━━━━━━━━━━━━━━━━━━\u001b[0m \u001b[32m0.0/217.1 kB\u001b[0m \u001b[31m?\u001b[0m eta \u001b[36m-:--:--\u001b[0m\r\u001b[2K   \u001b[90m━━━━━━━━━━━━━━━━━━━━━━━━━━━━━━━━━━━━━━━━\u001b[0m \u001b[32m217.1/217.1 kB\u001b[0m \u001b[31m10.8 MB/s\u001b[0m eta \u001b[36m0:00:00\u001b[0m\n",
            "\u001b[?25h\u001b[?25l   \u001b[90m━━━━━━━━━━━━━━━━━━━━━━━━━━━━━━━━━━━━━━━━\u001b[0m \u001b[32m0.0/334.1 kB\u001b[0m \u001b[31m?\u001b[0m eta \u001b[36m-:--:--\u001b[0m\r\u001b[2K   \u001b[90m━━━━━━━━━━━━━━━━━━━━━━━━━━━━━━━━━━━━━━━━\u001b[0m \u001b[32m334.1/334.1 kB\u001b[0m \u001b[31m16.6 MB/s\u001b[0m eta \u001b[36m0:00:00\u001b[0m\n",
            "\u001b[?25h\u001b[?25l   \u001b[90m━━━━━━━━━━━━━━━━━━━━━━━━━━━━━━━━━━━━━━━━\u001b[0m \u001b[32m0.0/125.1 kB\u001b[0m \u001b[31m?\u001b[0m eta \u001b[36m-:--:--\u001b[0m\r\u001b[2K   \u001b[90m━━━━━━━━━━━━━━━━━━━━━━━━━━━━━━━━━━━━━━━━\u001b[0m \u001b[32m125.1/125.1 kB\u001b[0m \u001b[31m7.4 MB/s\u001b[0m eta \u001b[36m0:00:00\u001b[0m\n",
            "\u001b[2K   \u001b[90m━━━━━━━━━━━━━━━━━━━━━━━━━━━━━━━━━━━━━━━━\u001b[0m \u001b[32m65.8/65.8 kB\u001b[0m \u001b[31m3.5 MB/s\u001b[0m eta \u001b[36m0:00:00\u001b[0m\n",
            "\u001b[2K   \u001b[90m━━━━━━━━━━━━━━━━━━━━━━━━━━━━━━━━━━━━━━━━\u001b[0m \u001b[32m119.0/119.0 kB\u001b[0m \u001b[31m5.9 MB/s\u001b[0m eta \u001b[36m0:00:00\u001b[0m\n",
            "\u001b[2K   \u001b[90m━━━━━━━━━━━━━━━━━━━━━━━━━━━━━━━━━━━━━━━━\u001b[0m \u001b[32m194.9/194.9 kB\u001b[0m \u001b[31m9.5 MB/s\u001b[0m eta \u001b[36m0:00:00\u001b[0m\n",
            "\u001b[2K   \u001b[90m━━━━━━━━━━━━━━━━━━━━━━━━━━━━━━━━━━━━━━━━\u001b[0m \u001b[32m62.5/62.5 kB\u001b[0m \u001b[31m3.2 MB/s\u001b[0m eta \u001b[36m0:00:00\u001b[0m\n",
            "\u001b[2K   \u001b[90m━━━━━━━━━━━━━━━━━━━━━━━━━━━━━━━━━━━━━━━━\u001b[0m \u001b[32m103.3/103.3 kB\u001b[0m \u001b[31m5.7 MB/s\u001b[0m eta \u001b[36m0:00:00\u001b[0m\n",
            "\u001b[2K   \u001b[90m━━━━━━━━━━━━━━━━━━━━━━━━━━━━━━━━━━━━━━━━\u001b[0m \u001b[32m44.4/44.4 kB\u001b[0m \u001b[31m2.1 MB/s\u001b[0m eta \u001b[36m0:00:00\u001b[0m\n",
            "\u001b[2K   \u001b[90m━━━━━━━━━━━━━━━━━━━━━━━━━━━━━━━━━━━━━━━━\u001b[0m \u001b[32m72.0/72.0 kB\u001b[0m \u001b[31m3.9 MB/s\u001b[0m eta \u001b[36m0:00:00\u001b[0m\n",
            "\u001b[?25h"
          ]
        }
      ]
    },
    {
      "cell_type": "code",
      "source": [
        "# 🕒 Definir data atual\n",
        "data_de_hoje = datetime.now().strftime(\"%d/%m/%Y\")\n",
        "\n",
        "# 💬 Markdown formatado para exibir\n",
        "def to_markdown(text):\n",
        "    \"\"\"Formata o texto para exibição em Markdown.\"\"\"\n",
        "    text = text.replace(\"•\", \"  *\")\n",
        "    return Markdown(textwrap.indent(text, \"> \", predicate=lambda _: True))\n",
        "\n",
        "def exibir(texto):\n",
        "    \"\"\"Exibe o texto formatado em Markdown no Colab.\"\"\"\n",
        "    display(to_markdown(texto))"
      ],
      "metadata": {
        "id": "_3apeIG7mu65"
      },
      "execution_count": 5,
      "outputs": []
    },
    {
      "cell_type": "code",
      "source": [
        "# Agente 1: Agente Radar Interno\n",
        "def agente_radar_interno(model): # Add model as a parameter\n",
        "    \"\"\"Gera a pergunta para o usuário sobre seu estado emocional.\"\"\"\n",
        "    pergunta = \"Diz-me com sinceridade: como te sentes hoje? 🧠 Mental / ❤️ Emoção / ⚡ Corpo / 🌪️ Caos total\"\n",
        "    prompt = f\"\"\"Você é um agente de IA chamado Radar Interno. A sua função é ajudar o utilizador a identificar e expressar o seu estado emocional no início do dia.\n",
        "Faça uma única pergunta direta e amigável para o utilizador descrever como está a sentir-se, tanto mentalmente quanto emocionalmente e fisicamente.\n",
        "\n",
        "Radar Interno: {pergunta}\"\"\"\n",
        "    # Make sure 'model' is defined before this line\n",
        "    response = model.generate_content(prompt)\n",
        "    return pergunta # Retorna diretamente a pergunta definida"
      ],
      "metadata": {
        "id": "Qpp-e1QvmzY3"
      },
      "execution_count": 6,
      "outputs": []
    },
    {
      "cell_type": "code",
      "source": [
        "# Agente 2: Agente de Ação Consciente\n",
        "def agente_acao_consciente(model, estado_emocional: str) -> str: # Added 'model' as a parameter\n",
        "    \"\"\"\n",
        "    Agente para sugerir microações, foco e autocuidado com base no estado emocional do utilizador.\n",
        "    Além disso, faz perguntas para entender melhor a situação do utilizador.\n",
        "\n",
        "    Args:\n",
        "        model: O objeto do modelo Gemini.\n",
        "        estado_emocional: O estado emocional do utilizador (string).\n",
        "\n",
        "    Returns:\n",
        "        A sugestão de microação, foco e autocuidado, incluindo perguntas adicionais.\n",
        "    \"\"\"\n",
        "      prompt = f\"\"\"Você é um agente de IA chamado Ação Consciente. A sua função\n",
        "    é fornecer sugestões de microações, foco e autocuidado com base no estado emocional do utilizador.\n",
        "    Use uma linguagem concisa e direta. O estado emocional do utilizador é: {estado_emocional}.\n",
        "\n",
        "Além disso, faça perguntas para entender melhor a situação do usuário, como:\n",
        "\"Há algo específico te preocupando?\", \"Quais são seus principais objetivos para hoje?\".\n",
        "\n",
        "Gere a resposta com base nesse estado emocional.\"\"\"\n",
        "    response = model.generate_content(prompt)\n",
        "    return response.text"
      ],
      "metadata": {
        "id": "_UL8HsSdm8hf"
      },
      "execution_count": 7,
      "outputs": []
    },
    {
      "cell_type": "code",
      "source": [
        "# Agente 3: Agente de Tarefas e Próximos Passos\n",
        "# Add 'model' as a parameter to the function definition\n",
        "def agente_tarefas_proximos_passos(model, estado_emocional: str, respostas_agente_2: str) -> str:\n",
        "    \"\"\"\n",
        "    Agente para propor tarefas e próximos passos com base no estado emocional e nas respostas do Agente 2.\n",
        "\n",
        "    Args:\n",
        "        model: O objeto do modelo Gemini.\n",
        "        estado_emocional: O estado emocional do utilizador (string).\n",
        "        respostas_agente_2: As respostas do utilizador às perguntas do Agente 2.\n",
        "\n",
        "    Returns:\n",
        "        A sugestão de tarefas e próximos passos.\n",
        "    \"\"\"\n",
        "    prompt = f\"\"\"Você é um agente de IA chamado Tarefas e Próximos Passos. A sua função é propor tarefas e próximos passos específicos com base no estado emocional do utilizador e nas suas respostas ao Agente 2. As tarefas devem ser acionáveis e relevantes.\n",
        "O estado emocional do utilizador é: {estado_emocional}.\n",
        "As respostas do utilizador ao Agente 2 são: {respostas_agente_2}.\n",
        "\n",
        "Gere tarefas e próximos passos com base nessas informações.\"\"\"\n",
        "    response = model.generate_content(prompt)\n",
        "    return response.text"
      ],
      "metadata": {
        "id": "GwWEE40FnSXy"
      },
      "execution_count": 8,
      "outputs": []
    },
    {
      "cell_type": "code",
      "source": [
        "def agente_reflexao_momentanea(model, estado_emocional: str, respostas_agente_2: str, resposta_tarefas: str) -> List[str]:\n",
        "    \"\"\"\n",
        "    Agente para coletar a reflexão do utilizador sobre o momento presente.\n",
        "\n",
        "    Args:\n",
        "        model: O objeto do modelo Gemini.\n",
        "        estado_emocional: O estado emocional do utilizador (string).\n",
        "        respostas_agente_2: As respostas do utilizador às perguntas do Agente 2.\n",
        "        resposta_tarefas: As tarefas e próximos passos sugeridos.\n",
        "\n",
        "    Returns:\n",
        "        Uma lista de perguntas de reflexão.\n",
        "    \"\"\"\n",
        "    prompt = f\"\"\"Você é um agente de IA chamado Reflexão Momentânea. Sua função é gerar 3 perguntas curtas e diretas para o utilizador refletir sobre o dia, considerando as informações fornecidas até agora.\n",
        "\n",
        "Considere o estado emocional do utilizador: \"{estado_emocional}\".\n",
        "Considere as respostas do utilizador ao Agente 2: \"{respostas_agente_2}\".\n",
        "Considere as tarefas e próximos passos sugeridos: \"{resposta_tarefas}\".\n",
        "\n",
        "Gere 3 perguntas distintas, cada uma focando em um aspecto diferente da reflexão do utilizador sobre si mesmo e sobre a interação até agora. Retorne cada pergunta como um item separado em uma lista de strings.\"\"\"\n",
        "\n",
        "    try:\n",
        "        response = model.generate_content(prompt)\n",
        "        perguntas = response.text.strip().split('\\n')\n",
        "        return [q.strip() for q in perguntas if q.strip()]\n",
        "    except Exception as e:\n",
        "        print(f\"Erro ao gerar perguntas de reflexão: {e}\")\n",
        "        return [\n",
        "            \"O que chamou sua atenção nesta breve conversa?\",\n",
        "            \"Há algo que você gostaria de lembrar para o futuro?\",\n",
        "            \"Qual o seu principal pensamento agora?\"\n",
        "        ]"
      ],
      "metadata": {
        "id": "DAac_UbinUmh"
      },
      "execution_count": 33,
      "outputs": []
    },
    {
      "cell_type": "code",
      "source": [
        "# Agente 5: Recompensa do Bem (Opcional)\n",
        "def agente_recompensa_do_bem(model):\n",
        "        \"\"\"\n",
        "        Agente para gerar uma mensagem de recompensa ou encorajamento.\n",
        "\n",
        "        Args:\n",
        "            model: O objeto do modelo Gemini.\n",
        "\n",
        "        Returns:\n",
        "            Uma mensagem de recompensa.\n",
        "        \"\"\"\n",
        "        prompt = \"\"\"Você é um agente de IA chamado Recompensa do Bem. Sua função é oferecer uma mensagem de encorajamento ou recompensa opcional ao utilizador no final da interação diária. A mensagem deve ser breve e positiva.\"\"\"\n",
        "        response = model.generate_content(prompt)\n",
        "        return response.text"
      ],
      "metadata": {
        "id": "L82tk6yA5BC9"
      },
      "execution_count": 10,
      "outputs": []
    },
    {
      "cell_type": "code",
      "source": [
        "# 💬 Markdown formatado para exibir\n",
        "# Ensure Markdown and textwrap are imported here as well, although they are also imported above.\n",
        "# Having them here ensures they are defined before the main function uses exibir.\n",
        "from IPython.display import Markdown, display\n",
        "import textwrap\n",
        "\n",
        "def to_markdown(text):\n",
        "    \"\"\"Formata o texto para exibição em Markdown.\"\"\"\n",
        "    text = text.replace(\"•\", \"  *\")\n",
        "    return Markdown(textwrap.indent(text, \"> \", predicate=lambda _: True))\n",
        "\n",
        "def exibir(texto):\n",
        "    \"\"\"Exibe o texto formatado em Markdown no Colab.\"\"\"\n",
        "    display(to_markdown(texto))"
      ],
      "metadata": {
        "id": "TF9whxePrJJB"
      },
      "execution_count": null,
      "outputs": []
    },
    {
      "cell_type": "code",
      "source": [
        "# VIVA+ – Uma conversa por dia pra você não viver no automático\n",
        "# Feito com base na Imersão IA da Alura + Google\n",
        "\n",
        "print(\"🌟 Bem-vindo ao VIVA+ – Sua jornada diária de bem-estar 🌟\")\n",
        "\n",
        "# Função para executar os agentes com base no estado emocional do utilizador\n",
        "def main():\n",
        "    \"\"\"\n",
        "    Função principal para executar o sistema VIVA+.\n",
        "    \"\"\"\n",
        "    print(\"🚀 Iniciando o Sistema VIVA+ 🚀\")\n",
        "    print(\"Uma conversa por dia para você não viver no automático.\")\n",
        "\n",
        "\n",
        "\n",
        "# Agente 1: Radar Interno\n",
        "print(\"\\n--- Radar Interno ---\")\n",
        "pergunta_radar_interno = agente_radar_interno(model)\n",
        "exibir(pergunta_radar_interno)\n",
        "estado_emocional = input(\">> A sua resposta: \")\n",
        "while not estado_emocional:\n",
        "    print(\"Por favor, forneça uma resposta válida sobre seu estado emocional.\")\n",
        "    estado_emocional = input(\">> A sua resposta: \")\n",
        "\n",
        "# Agente 2: Ação Consciente\n",
        "print(\"\\n--- Ação Consciente ---\")\n",
        "resposta_acao_consciente = agente_acao_consciente(model, estado_emocional)\n",
        "exibir(resposta_acao_consciente)\n",
        "print(\"\\n>> Para entender melhor, responda:\")\n",
        "pergunta_agente_2_1 = \"Há algo específico te preocupando?\"\n",
        "resposta_agente_2_1 = input(f\"{pergunta_agente_2_1}: \")\n",
        "pergunta_agente_2_2 = \"Quais são seus principais objetivos para hoje?\"\n",
        "resposta_agente_2_2 = input(f\"{pergunta_agente_2_2}: \")\n",
        "respostas_agente_2 = f\"{pergunta_agente_2_1}: {resposta_agente_2_1}\\n{pergunta_agente_2_2}: {resposta_agente_2_2}\"\n",
        "while not resposta_agente_2_1 or not resposta_agente_2_2:\n",
        "    print(\"Por favor, responda às perguntas para que eu possa te ajudar melhor.\")\n",
        "    if not resposta_agente_2_1:\n",
        "        resposta_agente_2_1 = input(f\"{pergunta_agente_2_1}: \")\n",
        "    if not resposta_agente_2_2:\n",
        "        resposta_agente_2_2 = input(f\"{pergunta_agente_2_2}: \")\n",
        "    respostas_agente_2 = f\"{pergunta_agente_2_1}: {resposta_agente_2_1}\\n{pergunta_agente_2_2}: {resposta_agente_2_2}\"\n",
        "\n",
        "\n",
        "# Agente 3: Tarefas e Próximos Passos\n",
        "print(\"\\n--- Tarefas e Próximos Passos ---\")\n",
        "resposta_tarefas = agente_tarefas_proximos_passos(model, estado_emocional, respostas_agente_2)\n",
        "exibir(resposta_tarefas)\n",
        "\n",
        "# Agente 4: Reflexão Momentânea\n",
        "print(\"\\n--- Reflexão Momentânea ---\")\n",
        "perguntas_reflexao = agente_reflexao_momentanea(model, estado_emocional, respostas_agente_2, resposta_tarefas)\n",
        "\n",
        "respostas_reflexao = []\n",
        "print(\"\\n>> Para refletir um pouco:\")\n",
        "# Ensure questions were generated before iterating\n",
        "if perguntas_reflexao:\n",
        "    for i, pergunta in enumerate(perguntas_reflexao):\n",
        "        resposta = input(f\"{pergunta.strip()}: \")\n",
        "        respostas_reflexao.append(resposta)\n",
        "        while not resposta.strip():\n",
        "            print(\"Por favor, forneça uma resposta para esta reflexão.\")\n",
        "            resposta = input(f\"{pergunta.strip()}: \")\n",
        "            respostas_reflexao[-1] = resposta\n",
        "else:\n",
        "    print(\"Não foram geradas perguntas de reflexão.\") # Add a message if no questions\n",
        "\n",
        "resposta_reflexao_1 = respostas_reflexao[0] if len(respostas_reflexao) > 0 else \"\"\n",
        "resposta_reflexao_2 = respostas_reflexao[1] if len(respostas_reflexao) > 1 else \"\"\n",
        "resposta_reflexao_3 = respostas_reflexao[2] if len(respostas_reflexao) > 2 else \"\"\n",
        "\n",
        "# Agente 5: Recompensa do Bem (Opcional)\n",
        "print(\"\\n--- Recompensa do Bem ---\")\n",
        "resposta_recompensa = agente_recompensa_do_bem(model)\n",
        "exibir(resposta_recompensa)\n",
        "\n",
        "# Simula o salvamento dos dados (substituir por Google Sheets)\n",
        "print(\"\\n--- Registro da Interação ---\")\n",
        "hoje = date.today().strftime(\"%d/%m/%Y\")\n",
        "print(f\"Data: {hoje}\")\n",
        "print(f\"Estado Emocional: {estado_emocional}\")\n",
        "print(f\"Respostas Agente 2: {respostas_agente_2}\")\n",
        "print(f\"Tarefas: {resposta_tarefas}\")\n",
        "print(f\"Reflexão 1: {resposta_reflexao_1}\")\n",
        "print(f\"Reflexão 2: {resposta_reflexao_2}\")\n",
        "print(f\"Reflexão 3: {resposta_reflexao_3}\")\n",
        "print(\"Dados registados com sucesso! (Simulação)\")\n",
        "\n",
        "exibir(\"\\n✨ Mensagem Final: O VIVA+ é mais do que um sistema de IA. É um momento de cuidado e atenção para você. ✨\")"
      ],
      "metadata": {
        "colab": {
          "base_uri": "https://localhost:8080/",
          "height": 1000
        },
        "id": "Rnng0vcRneSj",
        "outputId": "30902057-81d5-44a8-d7ea-0372494adb32"
      },
      "execution_count": 34,
      "outputs": [
        {
          "output_type": "stream",
          "name": "stdout",
          "text": [
            "🌟 Bem-vindo ao VIVA+ – Sua jornada diária de bem-estar 🌟\n",
            "\n",
            "--- Radar Interno ---\n"
          ]
        },
        {
          "output_type": "display_data",
          "data": {
            "text/plain": [
              "<IPython.core.display.Markdown object>"
            ],
            "text/markdown": "> Diz-me com sinceridade: como te sentes hoje? 🧠 Mental / ❤️ Emoção / ⚡ Corpo / 🌪️ Caos total"
          },
          "metadata": {}
        },
        {
          "output_type": "stream",
          "name": "stdout",
          "text": [
            ">> A sua resposta: FELIZ\n",
            "\n",
            "--- Ação Consciente ---\n"
          ]
        },
        {
          "output_type": "display_data",
          "data": {
            "text/plain": [
              "<IPython.core.display.Markdown object>"
            ],
            "text/markdown": "> Que ótimo que você está feliz! Para manter essa energia e canalizá-la da melhor forma, aqui vão algumas sugestões:\n> \n> **Microações:**\n> \n> *   **Compartilhe a alegria:** Envie uma mensagem positiva para um amigo ou familiar.\n> *   **Aproveite o momento:** Dedique alguns minutos para saborear um café, ouvir sua música favorita ou apreciar a natureza.\n> *   **Organize algo divertido:** Planeje uma atividade que te dê prazer para o final de semana.\n> \n> **Foco:**\n> \n> *   **Priorize tarefas:** Comece pelas atividades que te motivam e dão mais satisfação.\n> *   **Mantenha o ritmo:** Divida tarefas grandes em partes menores e celebre cada conquista.\n> \n> **Autocuidado:**\n> \n> *   **Movimente-se:** Faça uma caminhada, dance ou pratique algum exercício que te energize.\n> *   **Alimente-se bem:** Prepare uma refeição saborosa e nutritiva.\n> *   **Relaxe:** Reserve um tempo para meditar, ler um livro ou fazer algo que te acalme.\n> \n> Para te ajudar ainda mais, me conte:\n> \n> *   **Há algo específico te preocupando?**\n> *   **Quais são seus principais objetivos para hoje?**\n"
          },
          "metadata": {}
        },
        {
          "output_type": "stream",
          "name": "stdout",
          "text": [
            "\n",
            ">> Para entender melhor, responda:\n",
            "Há algo específico te preocupando?: IMPACIENCIA\n",
            "Quais são seus principais objetivos para hoje?: GANHAR DINHEIRO\n",
            "\n",
            "--- Tarefas e Próximos Passos ---\n"
          ]
        },
        {
          "output_type": "display_data",
          "data": {
            "text/plain": [
              "<IPython.core.display.Markdown object>"
            ],
            "text/markdown": "> ## Tarefas e Próximos Passos (Estado Emocional: FELIZ, Preocupação: IMPACIÊNCIA, Objetivo: GANHAR DINHEIRO)\n> \n> Considerando seu estado emocional feliz, mas com impaciência e um forte desejo de ganhar dinheiro hoje, vamos focar em ações rápidas e com potencial de retorno imediato. A felicidade pode ser um ótimo combustível para a ação, mas a impaciência pode levar a decisões precipitadas. O plano é canalizar a felicidade em energia produtiva, ao mesmo tempo que mantemos a impaciência sob controle.\n> \n> **Tarefas Imediatas (Próximas 3 Horas):**\n> \n> 1.  **Brainstorming Rápido de Oportunidades:**\n>     *   **Tarefa:** Liste 5 maneiras *rápidas* e *realistas* de ganhar dinheiro hoje. Considere suas habilidades e recursos disponíveis. Exemplos:\n>         *   Venda de algo que você não usa mais (roupas, eletrônicos, etc.).\n>         *   Oferecer um serviço freelance rápido (design simples, correção de texto, etc.).\n>         *   Trabalho sob demanda (aplicativos de entrega, transporte, etc.).\n>         *   Venda de produtos caseiros (doces, salgados, etc.).\n>         *   Oferta de tutoria online rápida.\n>     *   **Próximo Passo:** Dedique 15 minutos para essa lista. A chave é a rapidez e a praticidade. Não se apegue a ideias mirabolantes, pense em soluções simples.\n> \n> 2.  **Validação e Priorização:**\n>     *   **Tarefa:** Avalie cada uma das 5 ideias da lista. Considere o tempo necessário para execução, o potencial de lucro e a sua motivação para realizar cada tarefa.\n>     *   **Próximo Passo:** Classifique as ideias da mais promissora para a menos promissora. Escolha a ideia número 1 para focar sua energia inicial.\n> \n> 3.  **Ação Rápida (Implementação Inicial):**\n>     *   **Tarefa:** Execute as primeiras etapas da sua ideia prioritária.\n>         *   **Exemplo (Venda de roupas usadas):** Fotografe as peças, crie um anúncio atraente e publique em plataformas de venda online.\n>         *   **Exemplo (Serviço freelance):** Divulgue seus serviços para sua rede de contatos e em plataformas freelance.\n>         *   **Exemplo (Trabalho sob demanda):** Ative o aplicativo e comece a aceitar solicitações.\n>     *   **Próximo Passo:** Dedique 1-2 horas à implementação inicial. A chave é ver progresso rapidamente.\n> \n> **Tarefas de Acompanhamento (Próximas 6 Horas):**\n> \n> 4.  **Monitoramento e Ajuste:**\n>     *   **Tarefa:** Avalie o progresso da sua ação inicial. Está gerando resultados? Se não, por quê?\n>     *   **Próximo Passo:** Se a ação inicial não estiver funcionando, não hesite em mudar para a sua segunda ideia da lista. A impaciência pode ser sua aliada aqui, te forçando a adaptar-se rapidamente.\n> \n> 5.  **Escalabilidade (Se Possível):**\n>     *   **Tarefa:** Se a ação inicial estiver gerando resultados, explore maneiras de escalá-la.\n>         *   **Exemplo:** Crie mais anúncios, aceite mais solicitações, ofereça descontos para atrair mais clientes.\n>     *   **Próximo Passo:** Invista o tempo e a energia necessários para maximizar seus ganhos.\n> \n> **Tarefas de Longo Prazo (Para Minimizar a Impaciência no Futuro):**\n> \n> 6.  **Planejamento Financeiro:**\n>     *   **Tarefa:** Crie um plano financeiro básico para gerenciar seus ganhos e definir metas realistas.\n>     *   **Próximo Passo:** Pesquise sobre opções de investimento de curto prazo que possam gerar renda passiva.\n> \n> 7.  **Desenvolvimento de Habilidades:**\n>     *   **Tarefa:** Identifique habilidades que você pode desenvolver para aumentar seu potencial de ganho no futuro.\n>     *   **Próximo Passo:** Invista tempo em aprender novas habilidades através de cursos online, livros ou workshops.\n> \n> **Lembre-se:** A chave para lidar com a impaciência é focar em ações rápidas e resultados tangíveis. Celebrar pequenas vitórias ao longo do caminho também ajudará a manter a motivação e a felicidade. Boa sorte!\n"
          },
          "metadata": {}
        },
        {
          "output_type": "stream",
          "name": "stdout",
          "text": [
            "\n",
            "--- Reflexão Momentânea ---\n",
            "\n",
            ">> Para refletir um pouco:\n",
            "Aqui estão 3 perguntas para reflexão, considerando seu estado emocional, preocupação e objetivos:: PACIENCIA\n",
            "*   \"Em uma escala de 1 a 10, o quanto você acredita que as tarefas propostas são *realmente* alcançáveis hoje, considerando sua impaciência? Por quê?\": 10\n",
            "*   \"Qual pequena vitória você pode *garantir* que irá celebrar hoje, independentemente do resultado financeiro, para manter seu estado de felicidade?\": SEMPRE\n",
            "*   \"Se você pudesse dar um conselho a si mesmo sobre como lidar com a impaciência durante a execução das tarefas, qual seria?\": SEJA PACIENTE\n",
            "\n",
            "--- Recompensa do Bem ---\n"
          ]
        },
        {
          "output_type": "display_data",
          "data": {
            "text/plain": [
              "<IPython.core.display.Markdown object>"
            ],
            "text/markdown": "> Entendido! A partir de agora, ao final de nossas interações diárias, oferecerei uma mensagem de encorajamento ou uma recompensa opcional, sempre breve e positiva. Mal posso esperar para espalhar um pouco de positividade! 😊\n"
          },
          "metadata": {}
        },
        {
          "output_type": "stream",
          "name": "stdout",
          "text": [
            "\n",
            "--- Registro da Interação ---\n",
            "Data: 18/05/2025\n",
            "Estado Emocional: FELIZ\n",
            "Respostas Agente 2: Há algo específico te preocupando?: IMPACIENCIA\n",
            "Quais são seus principais objetivos para hoje?: GANHAR DINHEIRO\n",
            "Tarefas: ## Tarefas e Próximos Passos (Estado Emocional: FELIZ, Preocupação: IMPACIÊNCIA, Objetivo: GANHAR DINHEIRO)\n",
            "\n",
            "Considerando seu estado emocional feliz, mas com impaciência e um forte desejo de ganhar dinheiro hoje, vamos focar em ações rápidas e com potencial de retorno imediato. A felicidade pode ser um ótimo combustível para a ação, mas a impaciência pode levar a decisões precipitadas. O plano é canalizar a felicidade em energia produtiva, ao mesmo tempo que mantemos a impaciência sob controle.\n",
            "\n",
            "**Tarefas Imediatas (Próximas 3 Horas):**\n",
            "\n",
            "1.  **Brainstorming Rápido de Oportunidades:**\n",
            "    *   **Tarefa:** Liste 5 maneiras *rápidas* e *realistas* de ganhar dinheiro hoje. Considere suas habilidades e recursos disponíveis. Exemplos:\n",
            "        *   Venda de algo que você não usa mais (roupas, eletrônicos, etc.).\n",
            "        *   Oferecer um serviço freelance rápido (design simples, correção de texto, etc.).\n",
            "        *   Trabalho sob demanda (aplicativos de entrega, transporte, etc.).\n",
            "        *   Venda de produtos caseiros (doces, salgados, etc.).\n",
            "        *   Oferta de tutoria online rápida.\n",
            "    *   **Próximo Passo:** Dedique 15 minutos para essa lista. A chave é a rapidez e a praticidade. Não se apegue a ideias mirabolantes, pense em soluções simples.\n",
            "\n",
            "2.  **Validação e Priorização:**\n",
            "    *   **Tarefa:** Avalie cada uma das 5 ideias da lista. Considere o tempo necessário para execução, o potencial de lucro e a sua motivação para realizar cada tarefa.\n",
            "    *   **Próximo Passo:** Classifique as ideias da mais promissora para a menos promissora. Escolha a ideia número 1 para focar sua energia inicial.\n",
            "\n",
            "3.  **Ação Rápida (Implementação Inicial):**\n",
            "    *   **Tarefa:** Execute as primeiras etapas da sua ideia prioritária.\n",
            "        *   **Exemplo (Venda de roupas usadas):** Fotografe as peças, crie um anúncio atraente e publique em plataformas de venda online.\n",
            "        *   **Exemplo (Serviço freelance):** Divulgue seus serviços para sua rede de contatos e em plataformas freelance.\n",
            "        *   **Exemplo (Trabalho sob demanda):** Ative o aplicativo e comece a aceitar solicitações.\n",
            "    *   **Próximo Passo:** Dedique 1-2 horas à implementação inicial. A chave é ver progresso rapidamente.\n",
            "\n",
            "**Tarefas de Acompanhamento (Próximas 6 Horas):**\n",
            "\n",
            "4.  **Monitoramento e Ajuste:**\n",
            "    *   **Tarefa:** Avalie o progresso da sua ação inicial. Está gerando resultados? Se não, por quê?\n",
            "    *   **Próximo Passo:** Se a ação inicial não estiver funcionando, não hesite em mudar para a sua segunda ideia da lista. A impaciência pode ser sua aliada aqui, te forçando a adaptar-se rapidamente.\n",
            "\n",
            "5.  **Escalabilidade (Se Possível):**\n",
            "    *   **Tarefa:** Se a ação inicial estiver gerando resultados, explore maneiras de escalá-la.\n",
            "        *   **Exemplo:** Crie mais anúncios, aceite mais solicitações, ofereça descontos para atrair mais clientes.\n",
            "    *   **Próximo Passo:** Invista o tempo e a energia necessários para maximizar seus ganhos.\n",
            "\n",
            "**Tarefas de Longo Prazo (Para Minimizar a Impaciência no Futuro):**\n",
            "\n",
            "6.  **Planejamento Financeiro:**\n",
            "    *   **Tarefa:** Crie um plano financeiro básico para gerenciar seus ganhos e definir metas realistas.\n",
            "    *   **Próximo Passo:** Pesquise sobre opções de investimento de curto prazo que possam gerar renda passiva.\n",
            "\n",
            "7.  **Desenvolvimento de Habilidades:**\n",
            "    *   **Tarefa:** Identifique habilidades que você pode desenvolver para aumentar seu potencial de ganho no futuro.\n",
            "    *   **Próximo Passo:** Invista tempo em aprender novas habilidades através de cursos online, livros ou workshops.\n",
            "\n",
            "**Lembre-se:** A chave para lidar com a impaciência é focar em ações rápidas e resultados tangíveis. Celebrar pequenas vitórias ao longo do caminho também ajudará a manter a motivação e a felicidade. Boa sorte!\n",
            "\n",
            "Reflexão 1: PACIENCIA\n",
            "Reflexão 2: 10\n",
            "Reflexão 3: SEMPRE\n",
            "Dados registados com sucesso! (Simulação)\n"
          ]
        },
        {
          "output_type": "display_data",
          "data": {
            "text/plain": [
              "<IPython.core.display.Markdown object>"
            ],
            "text/markdown": "> \n> ✨ Mensagem Final: O VIVA+ é mais do que um sistema de IA. É um momento de cuidado e atenção para você. ✨"
          },
          "metadata": {}
        }
      ]
    },
    {
      "cell_type": "code",
      "source": [],
      "metadata": {
        "id": "SBT6YjvXc-81"
      },
      "execution_count": null,
      "outputs": []
    },
    {
      "cell_type": "code",
      "source": [],
      "metadata": {
        "id": "7Dkmyh_6G0dz"
      },
      "execution_count": null,
      "outputs": []
    }
  ]
}